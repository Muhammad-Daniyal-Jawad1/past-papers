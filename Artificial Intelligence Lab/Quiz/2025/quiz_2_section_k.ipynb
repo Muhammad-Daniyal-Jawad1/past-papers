{
  "nbformat": 4,
  "nbformat_minor": 0,
  "metadata": {
    "colab": {
      "provenance": []
    },
    "kernelspec": {
      "name": "python3",
      "display_name": "Python 3"
    },
    "language_info": {
      "name": "python"
    }
  },
  "cells": [
    {
      "cell_type": "markdown",
      "source": [
        "This is an individual Quiz and You are supposed to complete it in 1 hour AKA 60 Minutes. Please adhere to the following guidelines:-\n",
        "\n",
        "* You are in exam conditions, not communication is allowed. If will cancel\n",
        "\n",
        "* your quiz and mark your absent in case of any problems.\n",
        "\n",
        "* Understanding is part of this quiz, do not ask any questions, if you have confusions, assume things, and write your assumptions, No quires, means no quires\n",
        "\n",
        "* No extra time will be awarded.\n",
        "\n",
        "* The Quiz have 5 abs weightage so be very careful\n",
        "\n",
        "* Mobile phone should be off.\n",
        "\n",
        "* No help from internet is allowed.\n",
        "\n",
        "* Cheating cases will be reported to DC\n",
        "\n",
        "* Pass your smiles in the caffe after this exam, this is not a right place for socialization\n",
        "\n",
        "Good luck."
      ],
      "metadata": {
        "id": "JJI6lAIsRRU7"
      }
    },
    {
      "cell_type": "code",
      "source": [
        "import random\n",
        "import unittest\n",
        "from collections import deque\n",
        "import matplotlib.pyplot as plt\n",
        "import numpy as np"
      ],
      "metadata": {
        "id": "pWyqpa18Na_f"
      },
      "execution_count": 5,
      "outputs": []
    },
    {
      "cell_type": "markdown",
      "source": [
        "Q. No: 1 - Complete the following function which perfroms the BFS ! **5 marks**"
      ],
      "metadata": {
        "id": "TlQu_aw2foVx"
      }
    },
    {
      "cell_type": "code",
      "source": [
        "def bfs_traversal(matrix, start_node):\n",
        "    rows, cols = len(matrix), len(matrix[0])\n",
        "    visited = set()\n",
        "    queue = deque([start_node])\n",
        "    traversal_path = []\n",
        "\n",
        "    directions = [(-1, 0), (1, 0), (0, -1), (0, 1)]  # Up, Down, Left, Right\n",
        "\n",
        "    #complete the code for BFS trevesal, you can use your own fucntion but remeber to call it where I am testing and visualizing the paths\n",
        "\n",
        "    return traversal_path"
      ],
      "metadata": {
        "id": "ABy951R4d74E"
      },
      "execution_count": 6,
      "outputs": []
    },
    {
      "cell_type": "markdown",
      "source": [
        "Q. No: 2 - Complete the following function which perfroms the DFS ! **5 marks**"
      ],
      "metadata": {
        "id": "cN7qzletfwkE"
      }
    },
    {
      "cell_type": "code",
      "source": [
        "def dfs_traversal(matrix, start_node):\n",
        "    rows, cols = len(matrix), len(matrix[0])\n",
        "    visited = set()\n",
        "    stack = [start_node]\n",
        "    traversal_path = []\n",
        "\n",
        "    directions = [(-1, 0), (1, 0), (0, -1), (0, 1)]  # Up, Down, Left, Right\n",
        "\n",
        "    #complete the code for DFS trevesal, you can use your own fucntion but remeber to call it where I am testing and visualizing the paths\n",
        "\n",
        "    return traversal_path"
      ],
      "metadata": {
        "id": "kdFosz_2d9Sl"
      },
      "execution_count": 7,
      "outputs": []
    },
    {
      "cell_type": "code",
      "source": [
        "#you are provided these fuctions. If your codes are correct the code below will show you the compplete paths\n",
        "#dont change this code\n",
        "def visualize_path(matrix, path, title, color):\n",
        "    grid = np.array(matrix)\n",
        "    plt.figure(figsize=(6,6))\n",
        "    plt.imshow(grid, cmap='gray_r')\n",
        "\n",
        "    for i, (r, c) in enumerate(path):\n",
        "        plt.text(c, r, str(i), ha='center', va='center', color=color, fontsize=8, weight='bold')\n",
        "\n",
        "    start, end = path[0], path[-1]\n",
        "    plt.text(start[1], start[0], 'S', ha='center', va='center', color='green', fontsize=12, weight='bold')\n",
        "    plt.text(end[1], end[0], 'E', ha='center', va='center', color='blue', fontsize=12, weight='bold')\n",
        "\n",
        "    plt.title(title)\n",
        "    plt.xticks(range(len(matrix[0]))), plt.yticks(range(len(matrix)))\n",
        "    plt.gca().invert_yaxis()\n",
        "    plt.show()"
      ],
      "metadata": {
        "id": "t1_lzDfVNcyu"
      },
      "execution_count": 9,
      "outputs": []
    },
    {
      "cell_type": "code",
      "source": [
        "# Complex Matrix Example\n",
        "matrix = [\n",
        "    [1, 1, 1, 0, 1, 1],\n",
        "    [0, 1, 0, 0, 1, 0],\n",
        "    [1, 1, 1, 1, 1, 1],\n",
        "    [1, 0, 0, 1, 0, 1],\n",
        "    [1, 1, 1, 1, 1, 1]\n",
        "]\n",
        "\n",
        "start_node = (0, 0)  # Starting from the top-left corner\n",
        "\n",
        "\n",
        "#change this code only if you have chnage the fuction signature. Otherwise leave it as it is.\n",
        "bfs_path = bfs_traversal(matrix, start_node)\n",
        "dfs_path = dfs_traversal(matrix, start_node)"
      ],
      "metadata": {
        "id": "Cq2y1BIefW8v"
      },
      "execution_count": null,
      "outputs": []
    },
    {
      "cell_type": "code",
      "source": [
        "#dont change this code\n",
        "print(\"BFS Traversal Path:\", bfs_path)\n",
        "\n",
        "visualize_path(matrix, bfs_path, \"BFS Traversal Path\", 'red')"
      ],
      "metadata": {
        "colab": {
          "base_uri": "https://localhost:8080/",
          "height": 507
        },
        "id": "OOPxXaLHeG1G",
        "outputId": "bfca9d2c-50a3-427b-eb49-cbb054c28563"
      },
      "execution_count": 10,
      "outputs": [
        {
          "output_type": "stream",
          "name": "stdout",
          "text": [
            "BFS Traversal Path: [(0, 0), (0, 1), (1, 1), (0, 2), (2, 1), (2, 0), (2, 2), (3, 0), (2, 3), (4, 0), (3, 3), (2, 4), (4, 1), (4, 3), (1, 4), (2, 5), (4, 2), (4, 4), (0, 4), (3, 5), (4, 5), (0, 5)]\n"
          ]
        },
        {
          "output_type": "display_data",
          "data": {
            "text/plain": [
              "<Figure size 600x600 with 1 Axes>"
            ],
            "image/png": "[encoded data removed]"
          },
          "metadata": {}
        }
      ]
    },
    {
      "cell_type": "code",
      "source": [
        "#dont change this code\n",
        "print(\"DFS Traversal Path:\", dfs_path)\n",
        "visualize_path(matrix, dfs_path, \"DFS Traversal Path\", 'purple')"
      ],
      "metadata": {
        "colab": {
          "base_uri": "https://localhost:8080/",
          "height": 507
        },
        "id": "Hm3wGitjeLkh",
        "outputId": "d4a850ef-d701-489b-c18b-a6d15e09c184"
      },
      "execution_count": 11,
      "outputs": [
        {
          "output_type": "stream",
          "name": "stdout",
          "text": [
            "DFS Traversal Path: [(0, 0), (0, 1), (1, 1), (2, 1), (2, 0), (3, 0), (4, 0), (4, 1), (4, 2), (4, 3), (3, 3), (2, 3), (2, 2), (2, 4), (1, 4), (0, 4), (0, 5), (2, 5), (3, 5), (4, 5), (4, 4), (0, 2)]\n"
          ]
        },
        {
          "output_type": "display_data",
          "data": {
            "text/plain": [
              "<Figure size 600x600 with 1 Axes>"
            ],
            "image/png": "[encoded data removed]"
          },
          "metadata": {}
        }
      ]
    },
    {
      "cell_type": "markdown",
      "source": [
        "Basic Definations for Min Max and alpha Beta"
      ],
      "metadata": {
        "id": "QYvYt6FfPJUK"
      }
    },
    {
      "cell_type": "code",
      "source": [
        "class Node:\n",
        "    def __init__(self, value=None, children=None):\n",
        "        self.value = value\n",
        "        self.children = children if children is not None else []\n",
        "\n",
        "    def is_terminal(self):\n",
        "        return len(self.children) == 0\n",
        "\n",
        "# Sample game tree setup\n",
        "def setup_test_nodes():\n",
        "    # Deepest level nodes (Level 3)\n",
        "    level3_nodes = [Node(3), Node(15), Node(5)]\n",
        "\n",
        "    # Mid-level nodes (Level 2) - should aggregate to select min/max correctly\n",
        "    level2_nodes = [Node(children=[level3_nodes[0], level3_nodes[1]]), Node(children=[level3_nodes[2]])]\n",
        "\n",
        "    # Root node (Level 1) - combines level 2 nodes\n",
        "    root = Node(children=level2_nodes)\n",
        "    return root"
      ],
      "metadata": {
        "id": "6U4DZxCPPIJM"
      },
      "execution_count": null,
      "outputs": []
    },
    {
      "cell_type": "markdown",
      "source": [
        "Q. No: 3 - Complete the following function which perfroms the min_max ! **5 marks**"
      ],
      "metadata": {
        "id": "AfcD4n5GPNuU"
      }
    },
    {
      "cell_type": "code",
      "source": [
        "\n",
        "def min_max(node, depth, is_maximizing_player):\n",
        "    if depth == 0 or node.is_terminal():\n",
        "        return node.value\n",
        "\n",
        "    if is_maximizing_player:\n",
        "        value = -float('inf')\n",
        "        #complete a loop node.children and calculate the Max value for each child\n",
        "        return value\n",
        "    else:\n",
        "        value = float('inf')\n",
        "        for child in node.children:\n",
        "        #complete a loop node.children and calculate the Min value for each child\n",
        "        return value"
      ],
      "metadata": {
        "id": "RF09RGQpF81r"
      },
      "execution_count": null,
      "outputs": []
    },
    {
      "cell_type": "markdown",
      "source": [
        "Q. No: 4 - Complete the following function which perfroms the min_max ! **5 marks**"
      ],
      "metadata": {
        "id": "1VqsAl9cPXC5"
      }
    },
    {
      "cell_type": "code",
      "source": [
        "def alpha_beta(node, depth, alpha, beta, is_maximizing_player):\n",
        "    #Write the condtion for terminal node or if depth is 0\n",
        "        return node.value\n",
        "\n",
        "    if is_maximizing_player:\n",
        "        value = -float('inf')\n",
        "        for child in node.children:\n",
        "            value = max(value, alpha_beta(child, depth - 1, alpha, beta, not is_maximizing_player))\n",
        "            alpha = max(alpha, value)\n",
        "            if beta <= alpha:\n",
        "                break\n",
        "        return value\n",
        "    else:\n",
        "        #complete the else condition\n",
        "        return value"
      ],
      "metadata": {
        "id": "q5R1b_jtPaAy"
      },
      "execution_count": null,
      "outputs": []
    },
    {
      "cell_type": "code",
      "source": [
        "# Unit Testing\n",
        "class TestAlgorithms(unittest.TestCase):\n",
        "    def test_min_max(self):\n",
        "        root = setup_test_nodes()\n",
        "        # Assuming the test starts with maximizing at the root\n",
        "        self.assertEqual(min_max(root, 3, True), 5, \"Min-Max minimization failed\")\n",
        "\n",
        "    def test_alpha_beta(self):\n",
        "        root = setup_test_nodes()\n",
        "        # Assuming the test starts with maximizing at the root\n",
        "        self.assertEqual(alpha_beta(root, 3, -float('inf'), float('inf'), True), 5, \"Alpha-Beta pruning minimization failed\")\n",
        "\n",
        "# Execute the tests\n",
        "unittest.main(argv=[''], exit=False)"
      ],
      "metadata": {
        "colab": {
          "base_uri": "https://localhost:8080/"
        },
        "id": "msr9BvVeNmKX",
        "outputId": "1642d183-97c6-4b43-fc65-5f6da468d68b"
      },
      "execution_count": 12,
      "outputs": [
        {
          "output_type": "stream",
          "name": "stderr",
          "text": [
            "EE\n",
            "======================================================================\n",
            "ERROR: test_alpha_beta (__main__.TestAlgorithms.test_alpha_beta)\n",
            "----------------------------------------------------------------------\n",
            "Traceback (most recent call last):\n",
            "  File \"<ipython-input-12-2a338b563c72>\", line 9, in test_alpha_beta\n",
            "    root = setup_test_nodes()\n",
            "           ^^^^^^^^^^^^^^^^\n",
            "NameError: name 'setup_test_nodes' is not defined\n",
            "\n",
            "======================================================================\n",
            "ERROR: test_min_max (__main__.TestAlgorithms.test_min_max)\n",
            "----------------------------------------------------------------------\n",
            "Traceback (most recent call last):\n",
            "  File \"<ipython-input-12-2a338b563c72>\", line 4, in test_min_max\n",
            "    root = setup_test_nodes()\n",
            "           ^^^^^^^^^^^^^^^^\n",
            "NameError: name 'setup_test_nodes' is not defined\n",
            "\n",
            "----------------------------------------------------------------------\n",
            "Ran 2 tests in 0.004s\n",
            "\n",
            "FAILED (errors=2)\n"
          ]
        },
        {
          "output_type": "execute_result",
          "data": {
            "text/plain": [
              "<unittest.main.TestProgram at 0x7b8b241c77d0>"
            ]
          },
          "metadata": {},
          "execution_count": 12
        }
      ]
    }
  ]
}